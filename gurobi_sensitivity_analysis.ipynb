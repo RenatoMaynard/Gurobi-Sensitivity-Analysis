{
 "cells": [
  {
   "cell_type": "markdown",
   "id": "e4a5e13d",
   "metadata": {},
   "source": [
    "# Gurobi Sensitivity Analysis"
   ]
  },
  {
   "cell_type": "markdown",
   "id": "28e477b1",
   "metadata": {},
   "source": [
    "We consider a general **Linear Programming (LP)** model, which can be used to perform **Sensitivity Analysis** on both **objective coefficients** and **right-hand side (RHS) constraints**.\n",
    "\n",
    "### General Formulation:\n",
    "\\begin{alignat}{2}\n",
    "\\text{Maximize}   & \\quad \\sum_{j=1}^{n} c_j x_j & \\\\\n",
    "\\text{subject to} & \\quad \\sum_{j=1}^{n} a_{ij} x_j \\leq b_i, & \\quad \\forall i = 1, \\ldots, m \\\\\n",
    "                  & \\quad x_j \\geq 0, & \\quad \\forall j = 1, \\ldots, n\n",
    "\\end{alignat}\n",
    "### Where:\n",
    "- $ x_j $: Decision variables (e.g., units of products to produce, items to transport).\n",
    "- $ c_j $: Objective coefficients (profit or cost per unit of \\( j \\)).\n",
    "- $ a_{ij} $: Coefficient of variable \\( j \\) in constraint \\( i \\) (resource usage).\n",
    "- $ b_i $: Right-hand side (RHS) of constraint \\( i \\) (resource availability).\n",
    "- $ m $: Number of constraints (resources).\n",
    "- $ n $: Number of decision variables (products, activities, etc.).\n",
    "\n",
    "---\n",
    "\n",
    "###  Sensitivity Analysis includes:\n",
    "\n",
    "- **Objective Coefficient Ranges**: \n",
    "  - How much can $ c_j $ increase or decrease without changing the optimal basis/solution.\n",
    "- **RHS Ranges**:\n",
    "  - How much can $ b_i $ increase or decrease without changing the shadow prices (dual values).\n",
    "- **Dual Values (Shadow Prices)**:\n",
    "  - The value of relaxing a constraint by one unit — interpreted as the **marginal value of resources**.\n",
    "- **Reduced Costs**:\n",
    "  - The amount by which an objective coefficient must improve before a non-basic variable enters the solution."
   ]
  },
  {
   "cell_type": "markdown",
   "id": "9e1c70c9",
   "metadata": {},
   "source": [
    "### Libraries "
   ]
  },
  {
   "cell_type": "code",
   "execution_count": 1,
   "id": "9918705d",
   "metadata": {},
   "outputs": [],
   "source": [
    "import gurobipy as gp\n",
    "from gurobipy import GRB, quicksum, Model\n",
    "import matplotlib.pyplot as plt\n",
    "import numpy as np\n",
    "import time"
   ]
  },
  {
   "cell_type": "markdown",
   "id": "2bd3c704",
   "metadata": {},
   "source": [
    "### Parameters"
   ]
  },
  {
   "cell_type": "code",
   "execution_count": 2,
   "id": "e94dbcc8",
   "metadata": {},
   "outputs": [],
   "source": [
    "# Number of products\n",
    "n_products = 3\n",
    "\n",
    "# Profits per product\n",
    "profits = [20, 30, 25]  # Profit for product 1, 2, 3\n",
    "\n",
    "# Resource consumption per product\n",
    "# Each row corresponds to a resource: [machine time, labor]\n",
    "# Each column corresponds to a product\n",
    "resource_usage = [\n",
    "    [2, 4, 3],  # Machine time needed for product 1, 2, 3\n",
    "    [3, 2, 5]   # Labor needed for product 1, 2, 3\n",
    "]\n",
    "\n",
    "# Resource availability (right-hand side limits)\n",
    "resources_available = [100, 90]  # Total machine time, total labor available\n",
    "\n",
    "# Upper limits on production (optional)\n",
    "upper_limits = [40, 30, 50]  # Maximum units of products 1, 2, 3"
   ]
  },
  {
   "cell_type": "markdown",
   "id": "82f6f8d7",
   "metadata": {},
   "source": [
    "### Create the Gurobi Model"
   ]
  },
  {
   "cell_type": "code",
   "execution_count": 3,
   "id": "52c9279b",
   "metadata": {},
   "outputs": [
    {
     "name": "stdout",
     "output_type": "stream",
     "text": [
      "Set parameter Username\n",
      "Academic license - for non-commercial use only - expires 2026-03-13\n"
     ]
    }
   ],
   "source": [
    "model = Model(\"ProductionPlanning\")"
   ]
  },
  {
   "cell_type": "markdown",
   "id": "53ea6841",
   "metadata": {},
   "source": [
    "### Variables"
   ]
  },
  {
   "cell_type": "code",
   "execution_count": 4,
   "id": "8d102c5a",
   "metadata": {},
   "outputs": [],
   "source": [
    "x = model.addVars(n_products, lb=0, ub=upper_limits, name=\"Product\")"
   ]
  },
  {
   "cell_type": "markdown",
   "id": "e9962640",
   "metadata": {},
   "source": [
    "### Model"
   ]
  },
  {
   "cell_type": "code",
   "execution_count": 5,
   "id": "1f973709",
   "metadata": {},
   "outputs": [
    {
     "data": {
      "text/plain": [
       "{0: <gurobi.Constr *Awaiting Model Update*>,\n",
       " 1: <gurobi.Constr *Awaiting Model Update*>}"
      ]
     },
     "execution_count": 5,
     "metadata": {},
     "output_type": "execute_result"
    }
   ],
   "source": [
    "# ------------------ Objective ------------------ #\n",
    "model.setObjective(quicksum(profits[j] * x[j] for j in range(n_products)), GRB.MAXIMIZE)\n",
    "\n",
    "# Resource constraints\n",
    "model.addConstrs(\n",
    "    (quicksum(resource_usage[i][j] * x[j] for j in range(n_products)) <= resources_available[i] \n",
    "     for i in range(len(resources_available))),\n",
    "    name=\"Resource\")"
   ]
  },
  {
   "cell_type": "markdown",
   "id": "51167005",
   "metadata": {},
   "source": [
    "### Solve the Model"
   ]
  },
  {
   "cell_type": "code",
   "execution_count": 6,
   "id": "ea4e317e",
   "metadata": {},
   "outputs": [
    {
     "name": "stdout",
     "output_type": "stream",
     "text": [
      "Gurobi Optimizer version 11.0.0 build v11.0.0rc2 (win64 - Windows 11+.0 (26100.2))\n",
      "\n",
      "CPU model: AMD Ryzen 7 4800H with Radeon Graphics, instruction set [SSE2|AVX|AVX2]\n",
      "Thread count: 8 physical cores, 16 logical processors, using up to 16 threads\n",
      "\n",
      "Optimize a model with 2 rows, 3 columns and 6 nonzeros\n",
      "Model fingerprint: 0x95699edc\n",
      "Coefficient statistics:\n",
      "  Matrix range     [2e+00, 5e+00]\n",
      "  Objective range  [2e+01, 3e+01]\n",
      "  Bounds range     [3e+01, 5e+01]\n",
      "  RHS range        [9e+01, 1e+02]\n",
      "Presolve time: 0.00s\n",
      "Presolved: 2 rows, 3 columns, 6 nonzeros\n",
      "\n",
      "Iteration    Objective       Primal Inf.    Dual Inf.      Time\n",
      "       0    1.0000000e+03   6.250000e+00   0.000000e+00      0s\n",
      "       1    8.5000000e+02   0.000000e+00   0.000000e+00      0s\n",
      "\n",
      "Solved in 1 iterations and 0.01 seconds (0.00 work units)\n",
      "Optimal objective  8.500000000e+02\n"
     ]
    }
   ],
   "source": [
    "model.optimize()"
   ]
  },
  {
   "cell_type": "markdown",
   "id": "b8ca43b7",
   "metadata": {},
   "source": [
    "### Display Solution\n"
   ]
  },
  {
   "cell_type": "code",
   "execution_count": 7,
   "id": "765eb200",
   "metadata": {},
   "outputs": [
    {
     "name": "stdout",
     "output_type": "stream",
     "text": [
      "\n",
      "### Optimal Production Plan ###\n",
      "Product[0]: 20.00 units\n",
      "Product[1]: 15.00 units\n",
      "Product[2]: 0.00 units\n",
      "\n",
      "Total Profit: 850.00\n"
     ]
    }
   ],
   "source": [
    "if model.status == GRB.OPTIMAL:\n",
    "    print(\"\\n### Optimal Production Plan ###\")\n",
    "    for var in model.getVars():\n",
    "        print(f\"{var.varName}: {var.x:.2f} units\")\n",
    "    print(f\"\\nTotal Profit: {model.objVal:.2f}\")"
   ]
  },
  {
   "cell_type": "markdown",
   "id": "d53f6b1a",
   "metadata": {},
   "source": [
    "### Sensitivity Analysis"
   ]
  },
  {
   "cell_type": "code",
   "execution_count": 8,
   "id": "5e2fbd26",
   "metadata": {},
   "outputs": [
    {
     "name": "stdout",
     "output_type": "stream",
     "text": [
      "\n",
      "### Sensitivity Analysis on Objective Coefficients ###\n",
      "Variable: Current Profit, Allowable Increase, Allowable Decrease\n",
      "Product[0]: 20.0, 25.0, 3.571428571428573\n",
      "Product[1]: 30.0, 10.0, 16.666666666666668\n",
      "Product[2]: 25.0, 6.25, inf\n"
     ]
    }
   ],
   "source": [
    "print(\"\\n### Sensitivity Analysis on Objective Coefficients ###\")\n",
    "print(\"Variable: Current Profit, Allowable Increase, Allowable Decrease\")\n",
    "for var in model.getVars():\n",
    "    print(f\"{var.varName}: {var.obj}, {var.SAObjUp - var.obj}, {var.obj - var.SAObjLow}\")\n"
   ]
  },
  {
   "cell_type": "code",
   "execution_count": 9,
   "id": "86ab8723",
   "metadata": {
    "scrolled": true
   },
   "outputs": [
    {
     "name": "stdout",
     "output_type": "stream",
     "text": [
      "\n",
      "### Sensitivity Analysis on RHS (Resource Availability) ###\n",
      "Constraint: Current RHS, Allowable Increase, Allowable Decrease\n",
      "Resource[0]: 100.0, 40.0, 40.0\n",
      "Resource[1]: 90.0, 40.0, 40.0\n"
     ]
    }
   ],
   "source": [
    "print(\"\\n### Sensitivity Analysis on RHS (Resource Availability) ###\")\n",
    "print(\"Constraint: Current RHS, Allowable Increase, Allowable Decrease\")\n",
    "for constr in model.getConstrs():\n",
    "    print(f\"{constr.ConstrName}: {constr.RHS}, {constr.SARHSUp - constr.RHS}, {constr.RHS - constr.SARHSLow}\")\n"
   ]
  },
  {
   "cell_type": "code",
   "execution_count": 10,
   "id": "b9c8aa89",
   "metadata": {},
   "outputs": [
    {
     "name": "stdout",
     "output_type": "stream",
     "text": [
      "\n",
      "### Shadow Prices (Dual Values) ###\n",
      "Resource[0]: 6.2500\n",
      "Resource[1]: 2.5000\n"
     ]
    }
   ],
   "source": [
    "# ------------------ Dual Values ------------------ #\n",
    "print(\"\\n### Shadow Prices (Dual Values) ###\")\n",
    "for constr in model.getConstrs():\n",
    "    print(f\"{constr.ConstrName}: {constr.pi:.4f}\")"
   ]
  },
  {
   "cell_type": "code",
   "execution_count": 11,
   "id": "f5445141",
   "metadata": {},
   "outputs": [
    {
     "name": "stdout",
     "output_type": "stream",
     "text": [
      "\n",
      "### Reduced Costs ###\n",
      "Product[0]: 0.0000\n",
      "Product[1]: 0.0000\n",
      "Product[2]: -6.2500\n"
     ]
    }
   ],
   "source": [
    "# ------------------ Reduced Costs ------------------ #\n",
    "print(\"\\n### Reduced Costs ###\")\n",
    "for var in model.getVars():\n",
    "    print(f\"{var.varName}: {var.RC:.4f}\")"
   ]
  },
  {
   "cell_type": "code",
   "execution_count": null,
   "id": "9e64b13f",
   "metadata": {},
   "outputs": [],
   "source": []
  }
 ],
 "metadata": {
  "kernelspec": {
   "display_name": "Python 3 (ipykernel)",
   "language": "python",
   "name": "python3"
  },
  "language_info": {
   "codemirror_mode": {
    "name": "ipython",
    "version": 3
   },
   "file_extension": ".py",
   "mimetype": "text/x-python",
   "name": "python",
   "nbconvert_exporter": "python",
   "pygments_lexer": "ipython3",
   "version": "3.11.5"
  }
 },
 "nbformat": 4,
 "nbformat_minor": 5
}
